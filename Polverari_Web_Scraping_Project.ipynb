{
 "cells": [
  {
   "cell_type": "markdown",
   "metadata": {},
   "source": [
    "# 1. Web Scrapping"
   ]
  },
  {
   "cell_type": "markdown",
   "metadata": {},
   "source": [
    "#### a. From all the iOS pages (ending with “_ios.html”), extract \n",
    "#### (i) number of customer ratings in the Current Version (let’s call it ios_current_ratings); and \n",
    "#### (ii) number of customer ratings in All Versions (ios_all_ratings). \n",
    "#### For example, the extracted values should be: 4688, 106508 for the “2016-07- 21/00_00_pokemon_ios.html” file. There are 2 values from iOS pages."
   ]
  },
  {
   "cell_type": "code",
   "execution_count": null,
   "metadata": {},
   "outputs": [],
   "source": [
    "from bs4 import BeautifulSoup\n",
    "from datetime import datetime\n",
    "import pandas as pd"
   ]
  },
  {
   "cell_type": "code",
   "execution_count": null,
   "metadata": {},
   "outputs": [],
   "source": [
    "infile = open('pokemon_data/2016-07-21/00_00_pokemon_ios.html')\n",
    "contents = infile.read()\n",
    "soup = BeautifulSoup(contents, 'html.parser')\n",
    "infile.close()"
   ]
  },
  {
   "cell_type": "code",
   "execution_count": null,
   "metadata": {},
   "outputs": [],
   "source": [
    "soup.find('span', {'class':'rating-count'})"
   ]
  },
  {
   "cell_type": "code",
   "execution_count": null,
   "metadata": {},
   "outputs": [],
   "source": [
    "soup.find('span', {'class':'rating-count'}).get_text()"
   ]
  },
  {
   "cell_type": "code",
   "execution_count": null,
   "metadata": {},
   "outputs": [],
   "source": [
    "soup.find('span', {'class':'rating-count'}).get_text().split()"
   ]
  },
  {
   "cell_type": "code",
   "execution_count": null,
   "metadata": {},
   "outputs": [],
   "source": [
    "soup.find('span', {'class':'rating-count'}).get_text().split()[0]"
   ]
  },
  {
   "cell_type": "code",
   "execution_count": null,
   "metadata": {},
   "outputs": [],
   "source": [
    "soup.find_all('span', {'class':'rating-count'})"
   ]
  },
  {
   "cell_type": "code",
   "execution_count": null,
   "metadata": {},
   "outputs": [],
   "source": [
    "soup.find_all('span', {'class':'rating-count'})[1]"
   ]
  },
  {
   "cell_type": "code",
   "execution_count": null,
   "metadata": {},
   "outputs": [],
   "source": [
    "soup.find_all('span', {'class':'rating-count'})[1].get_text().split()[0]"
   ]
  },
  {
   "cell_type": "code",
   "execution_count": null,
   "metadata": {},
   "outputs": [],
   "source": [
    "ios_current_ratings = int(soup.find_all('span', {'class':'rating-count'})[0].get_text().split()[0])\n",
    "ios_all_ratings = int(soup.find_all('span', {'class':'rating-count'})[1].get_text().split()[0])\n",
    "print(ios_current_ratings, ios_all_ratings)"
   ]
  },
  {
   "cell_type": "markdown",
   "metadata": {},
   "source": [
    "#### b. From all the Android pages (ending with “_android.html”), extract \n",
    "#### (i) average rating (in the scale between 1.0 and 5.0) (android_avg_rating); \n",
    "#### (ii) number of total ratings (android_total_ratings); and \n",
    "#### (iii) number of ratings for 1-5 stars (android_ratings_1, android_ratings_2, ..., android_ratings_5). \n",
    "#### For example, the extracted values should be: 3.9, 1281802, 199974, 71512, 117754, 165956, 726597 for the “2016-07-21/00_00_pokemon_android.html” file. There are 7 values from Android pages."
   ]
  },
  {
   "cell_type": "code",
   "execution_count": null,
   "metadata": {},
   "outputs": [],
   "source": [
    "infile = open('pokemon_data/2016-07-21/00_00_pokemon_android.html')\n",
    "contents = infile.read()\n",
    "soup = BeautifulSoup(contents, 'html.parser')\n",
    "infile.close()"
   ]
  },
  {
   "cell_type": "code",
   "execution_count": null,
   "metadata": {},
   "outputs": [],
   "source": [
    "soup.find('div', {'class':'score'}).get_text()"
   ]
  },
  {
   "cell_type": "code",
   "execution_count": null,
   "metadata": {},
   "outputs": [],
   "source": [
    "soup.find('span', {'class':'reviews-num'}).get_text()"
   ]
  },
  {
   "cell_type": "code",
   "execution_count": null,
   "metadata": {},
   "outputs": [],
   "source": [
    "soup.find('span', {'class':'bar-number'}).get_text()"
   ]
  },
  {
   "cell_type": "code",
   "execution_count": null,
   "metadata": {},
   "outputs": [],
   "source": [
    "soup.find_all('span', {'class':'bar-number'})[0].get_text()"
   ]
  },
  {
   "cell_type": "code",
   "execution_count": null,
   "metadata": {},
   "outputs": [],
   "source": [
    "soup.find_all('span', {'class':'bar-number'})[1].get_text()"
   ]
  },
  {
   "cell_type": "code",
   "execution_count": null,
   "metadata": {},
   "outputs": [],
   "source": [
    "soup.find_all('span', {'class':'bar-number'})[2].get_text()"
   ]
  },
  {
   "cell_type": "code",
   "execution_count": null,
   "metadata": {},
   "outputs": [],
   "source": [
    "soup.find_all('span', {'class':'bar-number'})[3].get_text()"
   ]
  },
  {
   "cell_type": "code",
   "execution_count": null,
   "metadata": {},
   "outputs": [],
   "source": [
    "soup.find_all('span', {'class':'bar-number'})[4].get_text()"
   ]
  },
  {
   "cell_type": "code",
   "execution_count": null,
   "metadata": {},
   "outputs": [],
   "source": [
    "android_avg_rating = float(soup.find('div', {'class':'score'}).get_text())\n",
    "android_total_ratings = int(soup.find('span', {'class':'reviews-num'}).get_text())\n",
    "android_ratings_5 = int(soup.find_all('span', {'class':'bar-number'})[0].get_text())\n",
    "android_ratings_4 = int(soup.find_all('span', {'class':'bar-number'})[1].get_text())\n",
    "android_ratings_3 = int(soup.find_all('span', {'class':'bar-number'})[2].get_text())\n",
    "android_ratings_2 = int(soup.find_all('span', {'class':'bar-number'})[3].get_text())\n",
    "android_ratings_1 = int(soup.find_all('span', {'class':'bar-number'})[4].get_text())\n",
    "print(android_avg_rating, android_total_ratings, android_ratings_5, android_ratings_4, android_ratings_3, android_ratings_2, android_ratings_1)"
   ]
  },
  {
   "cell_type": "code",
   "execution_count": null,
   "metadata": {},
   "outputs": [],
   "source": [
    "soup.find('span', {'class':'reviews-num'}).get_text()"
   ]
  },
  {
   "cell_type": "code",
   "execution_count": null,
   "metadata": {},
   "outputs": [],
   "source": [
    "soup.find('span', {'class':'reviews-num'}).get_text().replace(',','')"
   ]
  },
  {
   "cell_type": "code",
   "execution_count": null,
   "metadata": {},
   "outputs": [],
   "source": [
    "float(soup.find('span', {'class':'reviews-num'}).get_text().replace(',',''))"
   ]
  },
  {
   "cell_type": "code",
   "execution_count": null,
   "metadata": {},
   "outputs": [],
   "source": [
    "android_avg_rating = float(soup.find('div', {'class':'score'}).get_text())\n",
    "android_total_ratings = int(soup.find('span', {'class':'reviews-num'}).get_text().replace(',',''))\n",
    "android_ratings_5 = int(soup.find_all('span', {'class':'bar-number'})[0].get_text().replace(',',''))\n",
    "android_ratings_4 = int(soup.find_all('span', {'class':'bar-number'})[1].get_text().replace(',',''))\n",
    "android_ratings_3 = int(soup.find_all('span', {'class':'bar-number'})[2].get_text().replace(',',''))\n",
    "android_ratings_2 = int(soup.find_all('span', {'class':'bar-number'})[3].get_text().replace(',',''))\n",
    "android_ratings_1 = int(soup.find_all('span', {'class':'bar-number'})[4].get_text().replace(',',''))\n",
    "print(android_avg_rating, android_total_ratings, android_ratings_5, android_ratings_4, android_ratings_3, android_ratings_2, android_ratings_1)"
   ]
  },
  {
   "cell_type": "markdown",
   "metadata": {},
   "source": [
    "#### a. From ALL the iOS pages (ending with “_ios.html”), extract \n",
    "#### (i) number of customer ratings in the Current Version (let’s call it ios_current_ratings); and \n",
    "#### (ii) number of customer ratings in All Versions (ios_all_ratings). "
   ]
  },
  {
   "cell_type": "code",
   "execution_count": null,
   "metadata": {},
   "outputs": [],
   "source": [
    "infile = open('pokemon_data/2016-07-21/00_00_pokemon_ios.html')\n",
    "contents = infile.read()\n",
    "soup = BeautifulSoup(contents, 'html.parser')\n",
    "infile.close()\n",
    "\n",
    "ios_current_ratings = int(soup.find_all('span', {'class':'rating-count'})[0].get_text().split()[0])\n",
    "ios_all_ratings = int(soup.find_all('span', {'class':'rating-count'})[1].get_text().split()[0])\n",
    "\n",
    "print(ios_current_ratings, ios_all_ratings)"
   ]
  },
  {
   "cell_type": "code",
   "execution_count": null,
   "metadata": {},
   "outputs": [],
   "source": [
    "import os\n",
    "os.listdir('pokemon_data')"
   ]
  },
  {
   "cell_type": "code",
   "execution_count": null,
   "metadata": {},
   "outputs": [],
   "source": [
    "os.listdir('pokemon_data/2016-07-28')"
   ]
  },
  {
   "cell_type": "code",
   "execution_count": null,
   "metadata": {},
   "outputs": [],
   "source": [
    "os.listdir('pokemon_data/2016-07-28').sort()"
   ]
  },
  {
   "cell_type": "code",
   "execution_count": null,
   "metadata": {},
   "outputs": [],
   "source": [
    "a = os.listdir('pokemon_data/2016-07-28').sort()\n",
    "a"
   ]
  },
  {
   "cell_type": "code",
   "execution_count": null,
   "metadata": {},
   "outputs": [],
   "source": [
    "type(a)"
   ]
  },
  {
   "cell_type": "code",
   "execution_count": null,
   "metadata": {},
   "outputs": [],
   "source": [
    "a = os.listdir('pokemon_data/2016-07-28')\n",
    "a.sort()\n",
    "a"
   ]
  },
  {
   "cell_type": "code",
   "execution_count": null,
   "metadata": {},
   "outputs": [],
   "source": [
    "type(a)"
   ]
  },
  {
   "cell_type": "code",
   "execution_count": null,
   "metadata": {},
   "outputs": [],
   "source": [
    "sorted(os.listdir('pokemon_data/2016-07-28'))"
   ]
  },
  {
   "cell_type": "code",
   "execution_count": null,
   "metadata": {},
   "outputs": [],
   "source": [
    "sorted(os.listdir('pokemon_data'))"
   ]
  },
  {
   "cell_type": "code",
   "execution_count": null,
   "metadata": {},
   "outputs": [],
   "source": [
    "for folder in os.listdir('pokemon_data')[1:]:\n",
    "    for file in os.listdir('pokemon_data/{}'.format(folder)):\n",
    "        print(file)"
   ]
  },
  {
   "cell_type": "code",
   "execution_count": null,
   "metadata": {},
   "outputs": [],
   "source": [
    "for folder in sorted(os.listdir('pokemon_data')[1:]):\n",
    "    for file in sorted(os.listdir('pokemon_data/{}'.format(folder))):\n",
    "        print(file)"
   ]
  },
  {
   "cell_type": "code",
   "execution_count": null,
   "metadata": {},
   "outputs": [],
   "source": [
    "\n",
    "#### DONT RUN ####\n",
    "\n",
    "\n",
    "for folder in sorted(os.listdir('pokemon_data')[1:]):\n",
    "    for file in sorted(os.listdir('pokemon_data/{}'.format(folder))):\n",
    "        if 'ios' in file:\n",
    "            infile = open('pokemon_data/{}/{}'.format(folder, file), encoding='utf8')\n",
    "            contents = infile.read()\n",
    "            soup = BeautifulSoup(contents, 'html.parser')\n",
    "            infile.close()\n",
    "            \n",
    "            ios_current_ratings = int(soup.find_all('span', {'class':'rating-count'})[0].get_text().split()[0])\n",
    "            ios_all_ratings = int(soup.find_all('span', {'class':'rating-count'})[1].get_text().split()[0])\n",
    "            \n",
    "            print(folder, file, ios_current_ratings, ios_all_ratings)"
   ]
  },
  {
   "cell_type": "code",
   "execution_count": null,
   "metadata": {},
   "outputs": [],
   "source": [
    "infile = open('pokemon_data/2016-07-30/18_00_pokemon_ios.html')\n",
    "contents = infile.read()\n",
    "soup = BeautifulSoup(contents, 'html.parser')\n",
    "infile.close()"
   ]
  },
  {
   "cell_type": "code",
   "execution_count": null,
   "metadata": {},
   "outputs": [],
   "source": [
    "soup.find_all('span', {'class':'rating-count'})"
   ]
  },
  {
   "cell_type": "code",
   "execution_count": null,
   "metadata": {},
   "outputs": [],
   "source": [
    "if len(soup.find_all('span', {'class':'rating-count'})) == 2:\n",
    "    ios_current_ratings = int(soup.find_all('span', {'class':'rating-count'})[0].get_text().split()[0])\n",
    "    ios_all_ratings = int(soup.find_all('span', {'class':'rating-count'})[1].get_text().split()[0])\n",
    "else:\n",
    "    ios_current_ratings = 'NA'    \n",
    "    ios_all_ratings =  int(soup.find_all('span', {'class':'rating-count'})[0].get_text().split()[0])                                   "
   ]
  },
  {
   "cell_type": "code",
   "execution_count": null,
   "metadata": {},
   "outputs": [],
   "source": [
    "print(ios_current_ratings, ios_all_ratings)"
   ]
  },
  {
   "cell_type": "code",
   "execution_count": null,
   "metadata": {},
   "outputs": [],
   "source": [
    "for folder in sorted(os.listdir('pokemon_data')[1:]):\n",
    "    for file in sorted(os.listdir('pokemon_data/{}'.format(folder))):\n",
    "        if 'ios' in file:\n",
    "            infile = open('pokemon_data/{}/{}'.format(folder, file), encoding = 'utf8')\n",
    "            contents = infile.read()\n",
    "            soup = BeautifulSoup(contents, 'html.parser')\n",
    "            infile.close()\n",
    "            \n",
    "            if len(soup.find_all('span', {'class':'rating-count'})) == 2:\n",
    "                ios_current_ratings = int(soup.find_all('span', {'class':'rating-count'})[0].get_text().split()[0])\n",
    "                ios_all_ratings = int(soup.find_all('span', {'class':'rating-count'})[1].get_text().split()[0])\n",
    "            else:\n",
    "                ios_current_ratings = 'NA'    \n",
    "                ios_all_ratings =  int(soup.find_all('span', {'class':'rating-count'})[0].get_text().split()[0]) \n",
    "            print(folder, file, ios_current_ratings, ios_all_ratings)"
   ]
  },
  {
   "cell_type": "code",
   "execution_count": null,
   "metadata": {},
   "outputs": [],
   "source": [
    "for folder in sorted(os.listdir('pokemon_data')[1:]):\n",
    "    for file in sorted(os.listdir('pokemon_data/{}'.format(folder))):\n",
    "        if 'ios' in file:\n",
    "            infile = open('pokemon_data/{}/{}'.format(folder, file), encoding='utf8')\n",
    "            contents = infile.read()\n",
    "            soup = BeautifulSoup(contents, 'html.parser')\n",
    "            infile.close()\n",
    "            \n",
    "            if len(soup.find_all('span', {'class':'rating-count'})) == 2:\n",
    "                ios_current_ratings = int(soup.find_all('span', {'class':'rating-count'})[0].get_text().split()[0])\n",
    "                ios_all_ratings = int(soup.find_all('span', {'class':'rating-count'})[1].get_text().split()[0])\n",
    "            else:\n",
    "                ios_current_ratings = 'NA'    \n",
    "                ios_all_ratings =  int(soup.find_all('span', {'class':'rating-count'})[0].get_text().split()[0]) \n",
    "                \n",
    "            print(folder, file, ios_current_ratings, ios_all_ratings)\n",
    "            \n",
    "        else:\n",
    "            infile = open('pokemon_data/{}/{}'.format(folder, file))\n",
    "            contents = infile.read()\n",
    "            soup = BeautifulSoup(contents, 'html.parser')\n",
    "            infile.close()\n",
    "            \n",
    "            android_avg_rating = float(soup.find('div', {'class':'score'}).get_text())\n",
    "            android_total_ratings = int(soup.find('span', {'class':'reviews-num'}).get_text().replace(',',''))\n",
    "            android_ratings_5 = int(soup.find_all('span', {'class':'bar-number'})[0].get_text().replace(',',''))\n",
    "            android_ratings_4 = int(soup.find_all('span', {'class':'bar-number'})[1].get_text().replace(',',''))\n",
    "            android_ratings_3 = int(soup.find_all('span', {'class':'bar-number'})[2].get_text().replace(',',''))\n",
    "            android_ratings_2 = int(soup.find_all('span', {'class':'bar-number'})[3].get_text().replace(',',''))\n",
    "            android_ratings_1 = int(soup.find_all('span', {'class':'bar-number'})[4].get_text().replace(',',''))\n",
    "            \n",
    "            print(folder, file, android_avg_rating, android_total_ratings, android_ratings_5, android_ratings_4, android_ratings_3, android_ratings_2, android_ratings_1, ios_current_ratings, ios_all_ratings)   \n"
   ]
  },
  {
   "cell_type": "markdown",
   "metadata": {},
   "source": [
    "# 2. Data Organization"
   ]
  },
  {
   "cell_type": "markdown",
   "metadata": {},
   "source": [
    "#### a. Using the extracted values from the previous step, create a Python dictionary, \n",
    "#### where the key is datetime object and the value is a dictionary with extracted values from iOS and Android HTML files. \n",
    "#### For example, for the case of “2016- 07-21-00_00_pokemon_android.html” file and “2016-07- 21/00_00_pokemon_ios.html” file, \n",
    "#### the key should be datetime(2016, 7, 21, 0, 0, 0) and the value should be: {‘ios_current_ratings’: 4688, ‘ios_all_ratings’: 106508, ‘android_avg_rating’: 3.9, ‘android_total_ratings’: 1281802, ‘android_rating_1’: 199974, ‘android_rating_2’: 71512, ‘android_rating_3’: 117754, ‘android_rating_4’: 165956, ‘android_rating_5’: 726597}"
   ]
  },
  {
   "cell_type": "code",
   "execution_count": null,
   "metadata": {},
   "outputs": [],
   "source": [
    "for folder in sorted(os.listdir('pokemon_data')[1:]):\n",
    "    for file in sorted(os.listdir('pokemon_data/{}'.format(folder))):\n",
    "        print(folder, file)"
   ]
  },
  {
   "cell_type": "code",
   "execution_count": null,
   "metadata": {},
   "outputs": [],
   "source": [
    "folder"
   ]
  },
  {
   "cell_type": "code",
   "execution_count": null,
   "metadata": {},
   "outputs": [],
   "source": [
    "file"
   ]
  },
  {
   "cell_type": "code",
   "execution_count": null,
   "metadata": {},
   "outputs": [],
   "source": [
    "folder.split('-')"
   ]
  },
  {
   "cell_type": "code",
   "execution_count": null,
   "metadata": {},
   "outputs": [],
   "source": [
    "file.split('_')"
   ]
  },
  {
   "cell_type": "code",
   "execution_count": null,
   "metadata": {},
   "outputs": [],
   "source": [
    "YMD = folder.split('-')\n",
    "HMS = file.split('_')\n",
    "key = datetime(int(YMD[0]), int(YMD[1]), int(YMD[2]), int(HMS[0]), int(HMS[1]), 0)\n",
    "print(key)"
   ]
  },
  {
   "cell_type": "code",
   "execution_count": null,
   "metadata": {},
   "outputs": [],
   "source": [
    "infile = open('pokemon_data/2016-07-21/00_00_pokemon_ios.html')\n",
    "contents = infile.read()\n",
    "soup = BeautifulSoup(contents, 'html.parser')\n",
    "infile.close()\n",
    "\n",
    "ios_current_ratings = int(soup.find_all('span', {'class':'rating-count'})[0].get_text().split()[0])\n",
    "ios_all_ratings = int(soup.find_all('span', {'class':'rating-count'})[1].get_text().split()[0])\n",
    "\n",
    "infile = open('pokemon_data/2016-07-21/00_00_pokemon_android.html')\n",
    "contents = infile.read()\n",
    "soup = BeautifulSoup(contents, 'html.parser')\n",
    "infile.close()\n",
    "\n",
    "android_avg_rating = float(soup.find('div', {'class':'score'}).get_text())\n",
    "android_total_ratings = int(soup.find('span', {'class':'reviews-num'}).get_text().replace(',',''))\n",
    "android_ratings_5 = int(soup.find_all('span', {'class':'bar-number'})[0].get_text().replace(',',''))\n",
    "android_ratings_4 = int(soup.find_all('span', {'class':'bar-number'})[1].get_text().replace(',',''))\n",
    "android_ratings_3 = int(soup.find_all('span', {'class':'bar-number'})[2].get_text().replace(',',''))\n",
    "android_ratings_2 = int(soup.find_all('span', {'class':'bar-number'})[3].get_text().replace(',',''))\n",
    "android_ratings_1 = int(soup.find_all('span', {'class':'bar-number'})[4].get_text().replace(',',''))           "
   ]
  },
  {
   "cell_type": "code",
   "execution_count": null,
   "metadata": {},
   "outputs": [],
   "source": [
    "print(ios_current_ratings, ios_all_ratings, android_avg_rating, android_total_ratings, android_ratings_5, android_ratings_4, android_ratings_3, android_ratings_2, android_ratings_1)"
   ]
  },
  {
   "cell_type": "code",
   "execution_count": null,
   "metadata": {},
   "outputs": [],
   "source": [
    "dic = {}\n",
    "        \n",
    "dic['ios_current_ratings'] = ios_current_ratings\n",
    "dic['ios_all_ratings'] = ios_all_ratings\n",
    "dic['android_avg_rating'] = android_avg_rating\n",
    "dic['android_total_ratings'] = android_total_ratings\n",
    "dic['android_ratings_5'] = android_ratings_5\n",
    "dic['android_ratings_4'] = android_ratings_5\n",
    "dic['android_ratings_3'] = android_ratings_5\n",
    "dic['android_ratings_2'] = android_ratings_5\n",
    "dic['android_ratings_1'] = android_ratings_5"
   ]
  },
  {
   "cell_type": "code",
   "execution_count": null,
   "metadata": {},
   "outputs": [],
   "source": [
    "dic"
   ]
  },
  {
   "cell_type": "code",
   "execution_count": null,
   "metadata": {},
   "outputs": [],
   "source": [
    "pokemon = {}\n",
    "pokemon[key] = dic"
   ]
  },
  {
   "cell_type": "code",
   "execution_count": null,
   "metadata": {},
   "outputs": [],
   "source": [
    "pokemon"
   ]
  },
  {
   "cell_type": "code",
   "execution_count": null,
   "metadata": {},
   "outputs": [],
   "source": [
    "pokemon = {}\n",
    "\n",
    "for folder in sorted(os.listdir('pokemon_data')[1:]):\n",
    "    for file in sorted(os.listdir('pokemon_data/{}'.format(folder))):\n",
    "        \n",
    "        YMD = folder.split('-')\n",
    "        HMS = file.split('_')\n",
    "        key = datetime(int(YMD[0]), int(YMD[1]), int(YMD[2]), int(HMS[0]), int(HMS[1]), 0)\n",
    "        \n",
    "        if 'ios' in file:\n",
    "            infile = open('pokemon_data/{}/{}'.format(folder, file), encoding = 'utf8')\n",
    "            contents = infile.read()\n",
    "            soup = BeautifulSoup(contents, 'html.parser')\n",
    "            infile.close()\n",
    "                       \n",
    "            if len(soup.find_all('span', {'class':'rating-count'})) == 2:\n",
    "                ios_current_ratings = int(soup.find_all('span', {'class':'rating-count'})[0].get_text().split()[0])\n",
    "                ios_all_ratings = int(soup.find_all('span', {'class':'rating-count'})[1].get_text().split()[0])\n",
    "            else:\n",
    "                ios_current_ratings = 'NA'    \n",
    "                ios_all_ratings =  int(soup.find_all('span', {'class':'rating-count'})[0].get_text().split()[0])\n",
    "                       \n",
    "        else:\n",
    "            infile = open('pokemon_data/{}/{}'.format(folder, file))\n",
    "            contents = infile.read()\n",
    "            soup = BeautifulSoup(contents, 'html.parser')\n",
    "            infile.close()\n",
    "\n",
    "            android_avg_rating = float(soup.find('div', {'class':'score'}).get_text())\n",
    "            android_total_ratings = int(soup.find('span', {'class':'reviews-num'}).get_text().replace(',',''))\n",
    "            android_ratings_5 = int(soup.find_all('span', {'class':'bar-number'})[0].get_text().replace(',',''))\n",
    "            android_ratings_4 = int(soup.find_all('span', {'class':'bar-number'})[1].get_text().replace(',',''))\n",
    "            android_ratings_3 = int(soup.find_all('span', {'class':'bar-number'})[2].get_text().replace(',',''))\n",
    "            android_ratings_2 = int(soup.find_all('span', {'class':'bar-number'})[3].get_text().replace(',',''))\n",
    "            android_ratings_1 = int(soup.find_all('span', {'class':'bar-number'})[4].get_text().replace(',',''))      \n",
    "         \n",
    "        dic = {}\n",
    "        \n",
    "        dic['ios_current_ratings'] = ios_current_ratings\n",
    "        dic['ios_all_ratings'] = ios_all_ratings\n",
    "        dic['android_avg_rating'] = android_avg_rating\n",
    "        dic['android_total_ratings'] = android_total_ratings\n",
    "        dic['android_ratings_5'] = android_ratings_5\n",
    "        dic['android_ratings_4'] = android_ratings_5\n",
    "        dic['android_ratings_3'] = android_ratings_5\n",
    "        dic['android_ratings_2'] = android_ratings_5\n",
    "        dic['android_ratings_1'] = android_ratings_5 \n",
    "        \n",
    "        pokemon[key] = dic\n",
    "                       \n",
    "                       "
   ]
  },
  {
   "cell_type": "code",
   "execution_count": null,
   "metadata": {},
   "outputs": [],
   "source": [
    "pokemon"
   ]
  },
  {
   "cell_type": "markdown",
   "metadata": {},
   "source": [
    "#### b. Convert the dictionary into a Pandas dataframe, pokemon_db, where the index is datetime and columns are names of the extracted 9 iOS/Android values."
   ]
  },
  {
   "cell_type": "code",
   "execution_count": null,
   "metadata": {},
   "outputs": [],
   "source": [
    "pd.DataFrame(pokemon)"
   ]
  },
  {
   "cell_type": "code",
   "execution_count": null,
   "metadata": {},
   "outputs": [],
   "source": [
    "pd.DataFrame(pokemon).transpose()"
   ]
  },
  {
   "cell_type": "code",
   "execution_count": null,
   "metadata": {},
   "outputs": [],
   "source": [
    "pokemon_db = pd.DataFrame(pokemon).transpose()"
   ]
  },
  {
   "cell_type": "markdown",
   "metadata": {},
   "source": [
    "#### c. Save the dataframe into two formats (CSV and Excel). The file names should be pokemon.csv and pokemon.xlsx."
   ]
  },
  {
   "cell_type": "code",
   "execution_count": null,
   "metadata": {},
   "outputs": [],
   "source": [
    "pokemon_db.to_csv('pokemon.csv')"
   ]
  },
  {
   "cell_type": "code",
   "execution_count": null,
   "metadata": {},
   "outputs": [],
   "source": [
    "pokemon_db.to_excel('pokemon.xlsx')"
   ]
  },
  {
   "cell_type": "code",
   "execution_count": null,
   "metadata": {},
   "outputs": [],
   "source": []
  }
 ],
 "metadata": {
  "kernelspec": {
   "display_name": "Python 3",
   "language": "python",
   "name": "python3"
  },
  "language_info": {
   "codemirror_mode": {
    "name": "ipython",
    "version": 3
   },
   "file_extension": ".py",
   "mimetype": "text/x-python",
   "name": "python",
   "nbconvert_exporter": "python",
   "pygments_lexer": "ipython3",
   "version": "3.8.8"
  }
 },
 "nbformat": 4,
 "nbformat_minor": 4
}
