{
 "cells": [
  {
   "cell_type": "markdown",
   "metadata": {},
   "source": [
    "# (1) Sentiment Analysis"
   ]
  },
  {
   "cell_type": "code",
   "execution_count": null,
   "metadata": {},
   "outputs": [],
   "source": [
    "'''\n",
    "Q1. Please open a json file (i.e. tweet_stream_halloween_1000) and create a list of tweets, Tweets.\n",
    "\n",
    "'''\n",
    "\n",
    "# note: at first, you need to import 1) json module; 2) textblob module from TextBlob package "
   ]
  },
  {
   "cell_type": "code",
   "execution_count": 1,
   "metadata": {},
   "outputs": [],
   "source": [
    "import json\n",
    "import numpy as np\n",
    "from pprint import pprint"
   ]
  },
  {
   "cell_type": "code",
   "execution_count": 8,
   "metadata": {},
   "outputs": [
    {
     "name": "stdout",
     "output_type": "stream",
     "text": [
      "Requirement already satisfied: textblob in c:\\users\\eric\\anaconda3\\lib\\site-packages (0.17.1)\n",
      "Requirement already satisfied: nltk>=3.1 in c:\\users\\eric\\anaconda3\\lib\\site-packages (from textblob) (3.6.1)\n",
      "Requirement already satisfied: joblib in c:\\users\\eric\\anaconda3\\lib\\site-packages (from nltk>=3.1->textblob) (1.0.1)\n",
      "Requirement already satisfied: regex in c:\\users\\eric\\anaconda3\\lib\\site-packages (from nltk>=3.1->textblob) (2021.4.4)\n",
      "Requirement already satisfied: click in c:\\users\\eric\\anaconda3\\lib\\site-packages (from nltk>=3.1->textblob) (7.1.2)\n",
      "Requirement already satisfied: tqdm in c:\\users\\eric\\anaconda3\\lib\\site-packages (from nltk>=3.1->textblob) (4.59.0)\n"
     ]
    }
   ],
   "source": [
    "!pip install textblob"
   ]
  },
  {
   "cell_type": "code",
   "execution_count": 9,
   "metadata": {},
   "outputs": [],
   "source": [
    "from textblob import TextBlob"
   ]
  },
  {
   "cell_type": "code",
   "execution_count": 36,
   "metadata": {},
   "outputs": [],
   "source": [
    "infile = open('tweet_stream_halloween_1000.json')\n",
    "data = json.load(infile)\n",
    "infile.close()"
   ]
  },
  {
   "cell_type": "code",
   "execution_count": 37,
   "metadata": {},
   "outputs": [
    {
     "data": {
      "text/plain": [
       "dict_keys(['created_at', 'id', 'id_str', 'text', 'source', 'truncated', 'in_reply_to_status_id', 'in_reply_to_status_id_str', 'in_reply_to_user_id', 'in_reply_to_user_id_str', 'in_reply_to_screen_name', 'user', 'geo', 'coordinates', 'place', 'contributors', 'retweeted_status', 'is_quote_status', 'quote_count', 'reply_count', 'retweet_count', 'favorite_count', 'entities', 'favorited', 'retweeted', 'filter_level', 'lang', 'timestamp_ms'])"
      ]
     },
     "execution_count": 37,
     "metadata": {},
     "output_type": "execute_result"
    }
   ],
   "source": [
    "data[0].keys()"
   ]
  },
  {
   "cell_type": "code",
   "execution_count": 38,
   "metadata": {},
   "outputs": [
    {
     "data": {
      "text/plain": [
       "'RT @xbrinni: Haunting Ground! 🦇\\n\\nHalloween shoot this year was another one of our favorite PS2 games! Photos to come soon! \\n\\nDaniella is @k…'"
      ]
     },
     "execution_count": 38,
     "metadata": {},
     "output_type": "execute_result"
    }
   ],
   "source": [
    "data[0]['text']"
   ]
  },
  {
   "cell_type": "code",
   "execution_count": 39,
   "metadata": {},
   "outputs": [],
   "source": [
    "corpus_contents = []\n",
    "\n",
    "for t in data:\n",
    "    corpus_contents.append(t['text'])"
   ]
  },
  {
   "cell_type": "code",
   "execution_count": null,
   "metadata": {},
   "outputs": [],
   "source": [
    "pprint(corpus_contents)"
   ]
  },
  {
   "cell_type": "code",
   "execution_count": 40,
   "metadata": {},
   "outputs": [
    {
     "data": {
      "text/plain": [
       "1000"
      ]
     },
     "execution_count": 40,
     "metadata": {},
     "output_type": "execute_result"
    }
   ],
   "source": [
    "len(corpus_contents)"
   ]
  },
  {
   "cell_type": "code",
   "execution_count": null,
   "metadata": {},
   "outputs": [],
   "source": [
    "'''\n",
    "Q2. Please create two lists (e.g. sub_list, pol_list) that have the subjectivity scores and polarity scores of all the tweets.\n",
    "\n",
    "'''\n",
    "\n",
    "# note: you can use for loop to access each tweet from tweets list. "
   ]
  },
  {
   "cell_type": "code",
   "execution_count": 41,
   "metadata": {},
   "outputs": [],
   "source": [
    "import json\n",
    "from textblob import TextBlob\n",
    "import matplotlib.pyplot as plt\n",
    "%matplotlib inline\n",
    "\n",
    "infile = open('tweet_stream_halloween_1000.json')\n",
    "data = json.load(infile)\n",
    "infile.close()\n",
    "\n",
    "Tweets = []\n",
    "\n",
    "for t in data:\n",
    "    Tweets.append(t['text'])\n",
    "\n",
    "sub_list = []\n",
    "pol_list = []\n",
    "\n",
    "for t in Tweets:\n",
    "    tb = TextBlob(t)\n",
    "    sub_list.append(tb.sentiment.subjectivity)\n",
    "    pol_list.append(tb.sentiment.polarity)"
   ]
  },
  {
   "cell_type": "code",
   "execution_count": null,
   "metadata": {},
   "outputs": [],
   "source": [
    "sub_list"
   ]
  },
  {
   "cell_type": "code",
   "execution_count": null,
   "metadata": {},
   "outputs": [],
   "source": [
    "pol_list"
   ]
  },
  {
   "cell_type": "code",
   "execution_count": null,
   "metadata": {},
   "outputs": [],
   "source": [
    "'''\n",
    "Q3. Plesae display a histogram of subjectivy of 1K tweets.\n",
    "    And save the histogram as subjectibity_1K_Tweets.pdf\n",
    "\n",
    "'''\n",
    "\n",
    "# note: at first, you need to import matplotlib.pyplot.\n",
    "# note: please check the filename"
   ]
  },
  {
   "cell_type": "code",
   "execution_count": 42,
   "metadata": {},
   "outputs": [
    {
     "data": {
      "image/png": "[encoded data removed]",
      "text/plain": [
       "<Figure size 432x288 with 1 Axes>"
      ]
     },
     "metadata": {
      "needs_background": "light"
     },
     "output_type": "display_data"
    }
   ],
   "source": [
    "import json\n",
    "from textblob import TextBlob\n",
    "import matplotlib.pyplot as plt\n",
    "%matplotlib inline\n",
    "\n",
    "infile = open('tweet_stream_halloween_1000.json')\n",
    "data = json.load(infile)\n",
    "infile.close()\n",
    "\n",
    "Tweets = []\n",
    "\n",
    "for t in data:\n",
    "    Tweets.append(t['text'])\n",
    "\n",
    "sub_list = []\n",
    "pol_list = []\n",
    "\n",
    "for t in Tweets:\n",
    "    tb = TextBlob(t)\n",
    "    sub_list.append(tb.sentiment.subjectivity)\n",
    "    pol_list.append(tb.sentiment.polarity)\n",
    "    \n",
    "plt.hist(sub_list, bins=10)\n",
    "plt.xlabel('subjectivity score')\n",
    "plt.ylabel('sentence count')\n",
    "plt.grid(True)\n",
    "plt.savefig('subjectivity_1k_Tweets.pdf')\n",
    "plt.show()"
   ]
  },
  {
   "cell_type": "code",
   "execution_count": null,
   "metadata": {},
   "outputs": [],
   "source": [
    "'''\n",
    "Q4. Plesae display a histogram of polarity of 1K tweets.\n",
    "    And save the histogram as polarity_1K_Tweets.pdf\n",
    "\n",
    "'''\n",
    "\n",
    "# note: please check the filename"
   ]
  },
  {
   "cell_type": "code",
   "execution_count": 43,
   "metadata": {},
   "outputs": [
    {
     "data": {
      "image/png": "[encoded data removed]",
      "text/plain": [
       "<Figure size 432x288 with 1 Axes>"
      ]
     },
     "metadata": {
      "needs_background": "light"
     },
     "output_type": "display_data"
    }
   ],
   "source": [
    "import json\n",
    "from textblob import TextBlob\n",
    "import matplotlib.pyplot as plt\n",
    "%matplotlib inline\n",
    "\n",
    "infile = open('tweet_stream_halloween_1000.json')\n",
    "data = json.load(infile)\n",
    "infile.close()\n",
    "\n",
    "Tweets = []\n",
    "\n",
    "for t in data:\n",
    "    Tweets.append(t['text'])\n",
    "\n",
    "sub_list = []\n",
    "pol_list = []\n",
    "\n",
    "for t in Tweets:\n",
    "    tb = TextBlob(t)\n",
    "    sub_list.append(tb.sentiment.subjectivity)\n",
    "    pol_list.append(tb.sentiment.polarity)\n",
    "    \n",
    "plt.hist(pol_list, bins=10)\n",
    "plt.xlabel('polarity score')\n",
    "plt.ylabel('sentence count')\n",
    "plt.grid(True)\n",
    "plt.savefig('polarity_1K_Tweets.pdf')\n",
    "plt.show()"
   ]
  },
  {
   "cell_type": "code",
   "execution_count": null,
   "metadata": {},
   "outputs": [],
   "source": [
    "'''\n",
    "Q5. Plese display a histogram of polarity of 1K tweets, \n",
    "    after removing objective tweets, which have 0 subjectivity score.\n",
    "    And save the histogram as polarity_new_1K_Tweets.pdf\n",
    "    \n",
    "'''\n",
    "\n",
    "# note: please check the filename"
   ]
  },
  {
   "cell_type": "code",
   "execution_count": 15,
   "metadata": {},
   "outputs": [
    {
     "data": {
      "image/png": "[encoded data removed]",
      "text/plain": [
       "<Figure size 432x288 with 1 Axes>"
      ]
     },
     "metadata": {
      "needs_background": "light"
     },
     "output_type": "display_data"
    },
    {
     "data": {
      "image/png": "[encoded data removed]",
      "text/plain": [
       "<Figure size 432x288 with 1 Axes>"
      ]
     },
     "metadata": {
      "needs_background": "light"
     },
     "output_type": "display_data"
    }
   ],
   "source": [
    "import json\n",
    "from textblob import TextBlob\n",
    "import matplotlib.pyplot as plt\n",
    "%matplotlib inline\n",
    "\n",
    "infile = open('tweet_stream_Halloween_1000.json')\n",
    "data = json.load(infile)\n",
    "infile.close()\n",
    "\n",
    "Tweets = []\n",
    "\n",
    "for t in data:\n",
    "    Tweets.append(t['text'])\n",
    "\n",
    "sub_list = []\n",
    "pol_list = []\n",
    "\n",
    "for t in Tweets:\n",
    "    tb = TextBlob(t)\n",
    "    if tb.sentiment.subjectivity != 0:\n",
    "        sub_list.append(tb.sentiment.subjectivity)\n",
    "        pol_list.append(tb.sentiment.polarity)\n",
    "\n",
    "plt.hist(sub_list, bins=10)\n",
    "plt.xlabel('subjectivity score')\n",
    "plt.ylabel('sentence count')\n",
    "plt.grid(True)\n",
    "plt.savefig('subjectivity_2.pdf')\n",
    "plt.show()\n",
    "\n",
    "plt.hist(pol_list, bins=10)\n",
    "plt.xlabel('polarity score')\n",
    "plt.ylabel('sentence count')\n",
    "plt.grid(True)\n",
    "plt.savefig('polarity_new_1K_Tweets.pdf')\n",
    "plt.show()"
   ]
  },
  {
   "cell_type": "markdown",
   "metadata": {},
   "source": [
    "# (2) Topic Modeling (NMF)\n",
    "\n"
   ]
  },
  {
   "cell_type": "code",
   "execution_count": null,
   "metadata": {},
   "outputs": [],
   "source": [
    "'''\n",
    "Q6. Please open a json file (i.e. tweet_stream_easter_1000.json) \n",
    "    and create a list of 1K tweets, corpus_contents, for TFIDF Vectorization\n",
    "'''\n",
    "\n",
    "# note: you need to import json module"
   ]
  },
  {
   "cell_type": "code",
   "execution_count": 16,
   "metadata": {},
   "outputs": [],
   "source": [
    "infile = open('tweet_stream_easter_1000.json')\n",
    "data = json.load(infile)\n",
    "infile.close()"
   ]
  },
  {
   "cell_type": "code",
   "execution_count": 17,
   "metadata": {},
   "outputs": [
    {
     "data": {
      "text/plain": [
       "dict_keys(['created_at', 'id', 'id_str', 'text', 'source', 'truncated', 'in_reply_to_status_id', 'in_reply_to_status_id_str', 'in_reply_to_user_id', 'in_reply_to_user_id_str', 'in_reply_to_screen_name', 'user', 'geo', 'coordinates', 'place', 'contributors', 'retweeted_status', 'is_quote_status', 'quote_count', 'reply_count', 'retweet_count', 'favorite_count', 'entities', 'favorited', 'retweeted', 'filter_level', 'lang', 'timestamp_ms'])"
      ]
     },
     "execution_count": 17,
     "metadata": {},
     "output_type": "execute_result"
    }
   ],
   "source": [
    "data[0].keys()"
   ]
  },
  {
   "cell_type": "code",
   "execution_count": 18,
   "metadata": {},
   "outputs": [
    {
     "data": {
      "text/plain": [
       "\"RT @CraftyMarten: I might be on a super secret table at Dunfermline Comic Con this weekend, I'm like the easter egg in the menu but way eas…\""
      ]
     },
     "execution_count": 18,
     "metadata": {},
     "output_type": "execute_result"
    }
   ],
   "source": [
    "data[0]['text']"
   ]
  },
  {
   "cell_type": "code",
   "execution_count": 19,
   "metadata": {},
   "outputs": [],
   "source": [
    "corpus_contents = []\n",
    "\n",
    "for t in data:\n",
    "    corpus_contents.append(t['text'])"
   ]
  },
  {
   "cell_type": "code",
   "execution_count": null,
   "metadata": {},
   "outputs": [],
   "source": [
    "pprint(corpus_contents)"
   ]
  },
  {
   "cell_type": "code",
   "execution_count": 21,
   "metadata": {},
   "outputs": [
    {
     "data": {
      "text/plain": [
       "1000"
      ]
     },
     "execution_count": 21,
     "metadata": {},
     "output_type": "execute_result"
    }
   ],
   "source": [
    "len(corpus_contents)"
   ]
  },
  {
   "cell_type": "code",
   "execution_count": null,
   "metadata": {},
   "outputs": [],
   "source": []
  },
  {
   "cell_type": "code",
   "execution_count": null,
   "metadata": {},
   "outputs": [],
   "source": [
    "'''\n",
    "Q7. Plesae vectorize your 1K tweets with TfidfVectorizer,\n",
    "    create document-term matrix (i.e. doc_term_matrix),\n",
    "    and create a list of unique words (i.e. unique_words).\n",
    "\n",
    "'''\n",
    "\n",
    "# note: you need to import TfidfVectorizer from sklearn.feature_extraction.text"
   ]
  },
  {
   "cell_type": "code",
   "execution_count": null,
   "metadata": {},
   "outputs": [],
   "source": [
    "from sklearn.feature_extraction.text import TfidfVectorizer\n",
    "\n",
    "# Set a TfidfVecorizer instance object that remove stopwords (stop_words='english') \n",
    "# and ignore terms that appears less than 2% of the documents (min_df=2).\n",
    "vectorizer = TfidfVectorizer(stop_words = 'english', min_df = 2)\n",
    "\n",
    "# Using the TfidVectorizer instance object, \n",
    "# tokenize all the strings in the corpus \n",
    "# and return document-term TF-IDF matrix comprised of vectors for strings\n",
    "doc_term_matrix = vectorizer.fit_transform(corpus_contents)\n",
    "\n",
    "print(doc_term_matrix.shape) # 1000 documents (tweets) and 887 unique words\n",
    "print(doc_term_matrix)"
   ]
  },
  {
   "cell_type": "code",
   "execution_count": 24,
   "metadata": {},
   "outputs": [
    {
     "name": "stdout",
     "output_type": "stream",
     "text": [
      "1335\n",
      "['000', '01637', '10', '10am', '10th', '11', '11th', '12', '12th', '13th']\n"
     ]
    }
   ],
   "source": [
    "# Please create a list of unique vocab, we will use this later\n",
    "unique_words = vectorizer.get_feature_names() \n",
    "print(len(unique_words)) #, '# of unique words'\n",
    "print(unique_words[:10])"
   ]
  },
  {
   "cell_type": "code",
   "execution_count": null,
   "metadata": {},
   "outputs": [],
   "source": []
  },
  {
   "cell_type": "code",
   "execution_count": null,
   "metadata": {},
   "outputs": [],
   "source": []
  },
  {
   "cell_type": "code",
   "execution_count": null,
   "metadata": {},
   "outputs": [],
   "source": [
    "'''\n",
    "Q8. Plesae perform NMF decomposition using document-term matrix with TfidfVectorizer.\n",
    "    When you perform NMF decomposition, please set the number of topics to 7.\n",
    "    And create document-topic matrix (i.e. doc_top_matrix) and topic-term matrix (i.e. top_term_matrix).\n",
    "\n",
    "'''\n",
    "\n",
    "# note: you need to import decomposition module from sklearn\n",
    "# note: please check the number of topics"
   ]
  },
  {
   "cell_type": "code",
   "execution_count": 25,
   "metadata": {},
   "outputs": [
    {
     "name": "stderr",
     "output_type": "stream",
     "text": [
      "C:\\Users\\eric\\anaconda3\\lib\\site-packages\\sklearn\\decomposition\\_nmf.py:312: FutureWarning: The 'init' value, when 'init=None' and n_components is less than n_samples and n_features, will be changed from 'nndsvd' to 'nndsvda' in 1.1 (renaming of 0.26).\n",
      "  warnings.warn((\"The 'init' value, when 'init=None' and \"\n"
     ]
    },
    {
     "name": "stdout",
     "output_type": "stream",
     "text": [
      "(1000, 7)\n",
      "[[0.05039181 0.00360847 0.00436147 ... 0.         0.01834409 0.        ]\n",
      " [0.04744824 0.         0.         ... 0.         0.05015851 0.06671906]\n",
      " [0.01617163 0.00182827 0.00389007 ... 0.00075589 0.09093878 0.        ]\n",
      " ...\n",
      " [0.00434533 0.         0.         ... 0.         0.         0.        ]\n",
      " [0.00341508 0.00036869 0.         ... 0.         0.         0.        ]\n",
      " [0.01099128 0.00066721 0.         ... 0.2613235  0.         0.        ]]\n"
     ]
    }
   ],
   "source": [
    "from sklearn import decomposition\n",
    "\n",
    "# Set the desired number of topics\n",
    "num_topics = 7\n",
    "\n",
    "# Set a classifier (i.e. clf) that initializes \n",
    "# the NMF decomposition with the assigned number of topics\n",
    "clf = decomposition.NMF(n_components = num_topics)\n",
    "\n",
    "# Using the classifier object, \n",
    "# transform the document-term TF-IDF matrix to fit the NMF model\n",
    "# and return a decomposed matrix with the number of documents and the number of topics.\n",
    "\n",
    "doc_top_matrix = clf.fit_transform(doc_term_matrix)\n",
    "\n",
    "print(doc_top_matrix.shape) # check the shape of the matrix\n",
    "print(doc_top_matrix)"
   ]
  },
  {
   "cell_type": "code",
   "execution_count": 26,
   "metadata": {},
   "outputs": [
    {
     "name": "stdout",
     "output_type": "stream",
     "text": [
      "(7, 1335)\n",
      "[[4.91886056e-03 9.73001564e-04 5.10174123e-02 ... 9.73001564e-04\n",
      "  1.06321500e-03 1.43022419e-03]\n",
      " [0.00000000e+00 4.18790815e-03 0.00000000e+00 ... 4.18790815e-03\n",
      "  6.47492292e-04 1.10719354e-04]\n",
      " [4.87571595e-04 5.13621192e-04 0.00000000e+00 ... 5.13621192e-04\n",
      "  7.51556944e-04 2.97645861e-04]\n",
      " ...\n",
      " [0.00000000e+00 1.44355696e-05 0.00000000e+00 ... 1.44355696e-05\n",
      "  5.67235419e-05 0.00000000e+00]\n",
      " [2.32884703e-02 1.45573483e-03 2.81268249e-02 ... 1.45573483e-03\n",
      "  2.87458425e-03 2.63220416e-04]\n",
      " [0.00000000e+00 6.59169590e-03 1.73795973e-02 ... 6.59169590e-03\n",
      "  0.00000000e+00 0.00000000e+00]]\n"
     ]
    }
   ],
   "source": [
    "top_term_matrix = clf.components_\n",
    "\n",
    "print(top_term_matrix.shape)\n",
    "print(top_term_matrix)"
   ]
  },
  {
   "cell_type": "code",
   "execution_count": null,
   "metadata": {},
   "outputs": [],
   "source": [
    "'''\n",
    "Q9. Please display the constructed topics with top 6 keywords.\n",
    "\n",
    "\n",
    "'''\n",
    "\n",
    "# note: you need to import numpy and pprint\n",
    "# note: please check the number of keywords"
   ]
  },
  {
   "cell_type": "code",
   "execution_count": 27,
   "metadata": {},
   "outputs": [
    {
     "data": {
      "text/plain": [
       "array([0.00491886, 0.000973  , 0.05101741, 0.00231362, 0.01807521,\n",
       "       0.00472914, 0.00476041, 0.        , 0.00102757, 0.01044353])"
      ]
     },
     "execution_count": 27,
     "metadata": {},
     "output_type": "execute_result"
    }
   ],
   "source": [
    "import numpy as np\n",
    "\n",
    "topic_1 = clf.components_[0]\n",
    "topic_1[:10]"
   ]
  },
  {
   "cell_type": "code",
   "execution_count": 28,
   "metadata": {},
   "outputs": [
    {
     "data": {
      "text/plain": [
       "array([ 752,  416,  414, 1008,  393,  624], dtype=int64)"
      ]
     },
     "execution_count": 28,
     "metadata": {},
     "output_type": "execute_result"
    }
   ],
   "source": [
    "# We need indices of top key words of each topic!\n",
    "# How to find them? Sorting? We may lose their origial indices...\n",
    "# You can use np.argsort function!\n",
    "\n",
    "num_top_words = 6 # I want to see top 6 words of each topic\n",
    "\n",
    "# get the indices of 5 largest weights (from smaller to larger)\n",
    "np.argsort(topic_1)[-num_top_words:]"
   ]
  },
  {
   "cell_type": "code",
   "execution_count": 30,
   "metadata": {},
   "outputs": [
    {
     "data": {
      "text/plain": [
       "array([ 624,  393, 1008,  414,  416,  752], dtype=int64)"
      ]
     },
     "execution_count": 30,
     "metadata": {},
     "output_type": "execute_result"
    }
   ],
   "source": [
    "# But I need top 5 words from top to down! \n",
    "np.argsort(topic_1)[-num_top_words:][::-1] #[::-1] will change its direction!"
   ]
  },
  {
   "cell_type": "code",
   "execution_count": 32,
   "metadata": {},
   "outputs": [
    {
     "name": "stdout",
     "output_type": "stream",
     "text": [
      "1.6939194964707598 1.3877741608938468 0.640714157188794 0.39257635015548786 0.23270251918827983 0.2045080889975818\n"
     ]
    }
   ],
   "source": [
    "print(topic_1[624], topic_1[393], topic_1[1008], topic_1[414], topic_1[416], topic_1[752])"
   ]
  },
  {
   "cell_type": "code",
   "execution_count": 33,
   "metadata": {},
   "outputs": [
    {
     "name": "stdout",
     "output_type": "stream",
     "text": [
      "cunts doing creation include lucky\n"
     ]
    }
   ],
   "source": [
    "# finally, we can use unique_words that we created in section (2)\n",
    "print(unique_words[330], unique_words[370], unique_words[321], unique_words[634], unique_words[747])"
   ]
  },
  {
   "cell_type": "code",
   "execution_count": 34,
   "metadata": {},
   "outputs": [],
   "source": [
    "import numpy as np\n",
    "\n",
    "topic_words = []\n",
    "num_top_words = 6 # I want to see top 6 words of each topic\n",
    "\n",
    "# go over each component/topic\n",
    "for topic in clf.components_:\n",
    "\n",
    "    # get the indices of 6 largest weights (from smaller to larger)\n",
    "    word_idx = np.argsort(topic)[-num_top_words:]\n",
    "    \n",
    "    temp_lst = []\n",
    "    # let's see the words corresponding to the indices\n",
    "    for idx in word_idx[::-1]: # to access the largest weights first, plesae reverse the sequential object using [::-1]\n",
    "        temp_lst.append(unique_words[idx]) # let's append a keywords of the topic to a temp_lst\n",
    "        \n",
    "    topic_words.append(temp_lst) # let's append a list of keyword of the topic to topic_words"
   ]
  },
  {
   "cell_type": "code",
   "execution_count": 35,
   "metadata": {},
   "outputs": [
    {
     "name": "stdout",
     "output_type": "stream",
     "text": [
      "[['https', 'easter', 'rt', 'egg', 'eggs', 'make'],\n",
      " ['grown', 'loudly', 'argue', 'passionately', 'superpowers', 'shazam'],\n",
      " ['getting',\n",
      "  'passover',\n",
      "  'problematic',\n",
      "  'appropriationisitc',\n",
      "  'theradr',\n",
      "  'seders'],\n",
      " ['ve', 'got', 'different', 'kasson_wvu', 'microbiology', 'fungalpeeps'],\n",
      " ['bunny', 'available', 'themed', 'labradorite', 'undecided', '84igjhetvq'],\n",
      " ['april', 'just', 'win', 'follow', 'break', 'tweet'],\n",
      " ['coming', 'amp', 'football', 'poster', 'trials', 'education']]\n"
     ]
    }
   ],
   "source": [
    "from pprint import pprint\n",
    "pprint(topic_words)"
   ]
  },
  {
   "cell_type": "code",
   "execution_count": null,
   "metadata": {},
   "outputs": [],
   "source": []
  },
  {
   "cell_type": "code",
   "execution_count": null,
   "metadata": {},
   "outputs": [],
   "source": []
  },
  {
   "cell_type": "code",
   "execution_count": 31,
   "metadata": {},
   "outputs": [
    {
     "data": {
      "text/plain": [
       "'\\nQ10. Please perform topic modeling with tweet_stream_easter_1000.json.\\n     You need to set the number of topics to 10 and 10 keywords.\\n\\n'"
      ]
     },
     "execution_count": 31,
     "metadata": {},
     "output_type": "execute_result"
    }
   ],
   "source": [
    "'''\n",
    "Q10. Please perform topic modeling with tweet_stream_easter_1000.json.\n",
    "     You need to set the number of topics to 10 and 10 keywords.\n",
    "\n",
    "'''\n"
   ]
  },
  {
   "cell_type": "code",
   "execution_count": 44,
   "metadata": {},
   "outputs": [
    {
     "name": "stdout",
     "output_type": "stream",
     "text": [
      "[['https',\n",
      "  'easter',\n",
      "  'rt',\n",
      "  'basket',\n",
      "  'make',\n",
      "  'great',\n",
      "  'sunday',\n",
      "  'good',\n",
      "  'holiday',\n",
      "  'ideas'],\n",
      " ['grown',\n",
      "  'shazam',\n",
      "  'loudly',\n",
      "  'argue',\n",
      "  'superpowers',\n",
      "  'passionately',\n",
      "  'old',\n",
      "  'men',\n",
      "  'boy',\n",
      "  '14'],\n",
      " ['getting',\n",
      "  'passover',\n",
      "  'theradr',\n",
      "  'problematic',\n",
      "  'appropriationisitc',\n",
      "  'seders',\n",
      "  'closer',\n",
      "  'reminder',\n",
      "  'christian',\n",
      "  'rt'],\n",
      " ['ve',\n",
      "  'got',\n",
      "  'kasson_wvu',\n",
      "  'different',\n",
      "  'inoculated',\n",
      "  'called',\n",
      "  'microbiology',\n",
      "  'fungalpeeps',\n",
      "  'fungi',\n",
      "  'successful'],\n",
      " ['bunny',\n",
      "  'themed',\n",
      "  'available',\n",
      "  '84igjhetvq',\n",
      "  'undecided',\n",
      "  'labradorite',\n",
      "  'update',\n",
      "  'date',\n",
      "  'haydinmckenzie',\n",
      "  'rt'],\n",
      " ['april',\n",
      "  'just',\n",
      "  'win',\n",
      "  'follow',\n",
      "  'break',\n",
      "  'tweet',\n",
      "  '18th',\n",
      "  'winner',\n",
      "  'luxury',\n",
      "  'drawn'],\n",
      " ['coming',\n",
      "  'amp',\n",
      "  'football',\n",
      "  'poster',\n",
      "  'trials',\n",
      "  'education',\n",
      "  'details',\n",
      "  'academy',\n",
      "  'easter',\n",
      "  'https'],\n",
      " ['wreath',\n",
      "  'spring',\n",
      "  'decor',\n",
      "  'floral',\n",
      "  'bunny',\n",
      "  'door',\n",
      "  'wall',\n",
      "  'nursery',\n",
      "  'room',\n",
      "  'biancasteinfeld'],\n",
      " ['womaninbiz',\n",
      "  'wnukrt',\n",
      "  'tpdesigns1',\n",
      "  'order',\n",
      "  'days',\n",
      "  'holder',\n",
      "  'boards',\n",
      "  '7gkgwmtz2h',\n",
      "  'breakfast',\n",
      "  'chance'],\n",
      " ['egg',\n",
      "  'easter',\n",
      "  'eggs',\n",
      "  'hunt',\n",
      "  'love',\n",
      "  'question',\n",
      "  'chocolate',\n",
      "  'giveaway',\n",
      "  'like',\n",
      "  'rt']]\n"
     ]
    },
    {
     "name": "stderr",
     "output_type": "stream",
     "text": [
      "C:\\Users\\eric\\anaconda3\\lib\\site-packages\\sklearn\\decomposition\\_nmf.py:312: FutureWarning: The 'init' value, when 'init=None' and n_components is less than n_samples and n_features, will be changed from 'nndsvd' to 'nndsvda' in 1.1 (renaming of 0.26).\n",
      "  warnings.warn((\"The 'init' value, when 'init=None' and \"\n"
     ]
    }
   ],
   "source": [
    "import json\n",
    "import numpy as np\n",
    "from pprint import pprint\n",
    "from sklearn.feature_extraction.text import TfidfVectorizer\n",
    "from sklearn import decomposition\n",
    "import numpy as np\n",
    "\n",
    "infile = open('tweet_stream_easter_1000.json')\n",
    "data = json.load(infile)\n",
    "infile.close()\n",
    "\n",
    "corpus_contents = []\n",
    "\n",
    "for t in data:\n",
    "    corpus_contents.append(t['text'])\n",
    "    \n",
    "vectorizer = TfidfVectorizer(stop_words = 'english', min_df = 2)\n",
    "doc_term_matrix = vectorizer.fit_transform(corpus_contents)\n",
    "\n",
    "unique_words = vectorizer.get_feature_names() \n",
    "\n",
    "num_topics = 10\n",
    "\n",
    "clf = decomposition.NMF(n_components = num_topics)\n",
    "doc_top_matrix = clf.fit_transform(doc_term_matrix)\n",
    "top_term_matrix = clf.components_\n",
    "\n",
    "topic_words = []\n",
    "num_top_words = 10 \n",
    "\n",
    "for topic in clf.components_:\n",
    "    word_idx = np.argsort(topic)[-num_top_words:]\n",
    "    temp_lst = []\n",
    "    for idx in word_idx[::-1]: \n",
    "        temp_lst.append(unique_words[idx])\n",
    "    topic_words.append(temp_lst) \n",
    "    \n",
    "pprint(topic_words)"
   ]
  },
  {
   "cell_type": "code",
   "execution_count": 45,
   "metadata": {},
   "outputs": [],
   "source": [
    "from sklearn.feature_extraction import text "
   ]
  },
  {
   "cell_type": "code",
   "execution_count": 46,
   "metadata": {},
   "outputs": [],
   "source": [
    "my_additional_stop_word_list = ['rt', 'https']"
   ]
  },
  {
   "cell_type": "code",
   "execution_count": 47,
   "metadata": {},
   "outputs": [],
   "source": [
    "stop_words = text.ENGLISH_STOP_WORDS.union(my_additional_stop_word_list)"
   ]
  },
  {
   "cell_type": "code",
   "execution_count": null,
   "metadata": {},
   "outputs": [],
   "source": [
    "stop_words"
   ]
  },
  {
   "cell_type": "code",
   "execution_count": 49,
   "metadata": {},
   "outputs": [
    {
     "name": "stdout",
     "output_type": "stream",
     "text": [
      "[['easter',\n",
      "  'make',\n",
      "  'eggs',\n",
      "  'great',\n",
      "  'sunday',\n",
      "  'basket',\n",
      "  'good',\n",
      "  'holiday',\n",
      "  'holidays',\n",
      "  'time'],\n",
      " ['old',\n",
      "  'shazam',\n",
      "  'grown',\n",
      "  'loudly',\n",
      "  'passionately',\n",
      "  'superpowers',\n",
      "  'argue',\n",
      "  'men',\n",
      "  'boy',\n",
      "  '14'],\n",
      " ['getting',\n",
      "  'passover',\n",
      "  'problematic',\n",
      "  'theradr',\n",
      "  'appropriationisitc',\n",
      "  'seders',\n",
      "  'closer',\n",
      "  'reminder',\n",
      "  'christian',\n",
      "  'easter'],\n",
      " ['ve',\n",
      "  'got',\n",
      "  'kasson_wvu',\n",
      "  'called',\n",
      "  'inoculated',\n",
      "  'fungalpeeps',\n",
      "  'fungi',\n",
      "  'microbiology',\n",
      "  'different',\n",
      "  '12'],\n",
      " ['bunny',\n",
      "  'themed',\n",
      "  'available',\n",
      "  'update',\n",
      "  'labradorite',\n",
      "  '84igjhetvq',\n",
      "  'undecided',\n",
      "  'date',\n",
      "  'haydinmckenzie',\n",
      "  'easter'],\n",
      " ['coming',\n",
      "  'amp',\n",
      "  'football',\n",
      "  'poster',\n",
      "  'trials',\n",
      "  'education',\n",
      "  'details',\n",
      "  'academy',\n",
      "  'easter',\n",
      "  'yatetownfc'],\n",
      " ['april',\n",
      "  'just',\n",
      "  'win',\n",
      "  'break',\n",
      "  'follow',\n",
      "  'tweet',\n",
      "  '18th',\n",
      "  'hotel',\n",
      "  'luxury',\n",
      "  'winner'],\n",
      " ['wreath',\n",
      "  'spring',\n",
      "  'decor',\n",
      "  'floral',\n",
      "  'bunny',\n",
      "  'door',\n",
      "  'wall',\n",
      "  'nursery',\n",
      "  'room',\n",
      "  'biancasteinfeld'],\n",
      " ['womaninbiz',\n",
      "  'wnukrt',\n",
      "  'tpdesigns1',\n",
      "  'order',\n",
      "  'days',\n",
      "  'holder',\n",
      "  '7gkgwmtz2h',\n",
      "  'boards',\n",
      "  'breakfast',\n",
      "  'chance'],\n",
      " ['egg',\n",
      "  'hunt',\n",
      "  'love',\n",
      "  'easter',\n",
      "  'chocolate',\n",
      "  'eggs',\n",
      "  'like',\n",
      "  'campus',\n",
      "  'competition',\n",
      "  'enter']]\n"
     ]
    },
    {
     "name": "stderr",
     "output_type": "stream",
     "text": [
      "C:\\Users\\eric\\anaconda3\\lib\\site-packages\\sklearn\\decomposition\\_nmf.py:312: FutureWarning: The 'init' value, when 'init=None' and n_components is less than n_samples and n_features, will be changed from 'nndsvd' to 'nndsvda' in 1.1 (renaming of 0.26).\n",
      "  warnings.warn((\"The 'init' value, when 'init=None' and \"\n"
     ]
    }
   ],
   "source": [
    "import json\n",
    "import numpy as np\n",
    "from pprint import pprint\n",
    "from sklearn.feature_extraction.text import TfidfVectorizer\n",
    "from sklearn.feature_extraction import text \n",
    "from sklearn import decomposition\n",
    "import numpy as np\n",
    "\n",
    "infile = open('tweet_stream_easter_1000.json')\n",
    "data = json.load(infile)\n",
    "infile.close()\n",
    "\n",
    "corpus_contents = []\n",
    "\n",
    "for t in data:\n",
    "    corpus_contents.append(t['text'])\n",
    "\n",
    "my_additional_stop_word_list = ['rt', 'https']\n",
    "my_stop_words = text.ENGLISH_STOP_WORDS.union(my_additional_stop_word_list)\n",
    "\n",
    "vectorizer = TfidfVectorizer(stop_words = my_stop_words, min_df = 2)\n",
    "doc_term_matrix = vectorizer.fit_transform(corpus_contents)\n",
    "\n",
    "unique_words = vectorizer.get_feature_names() \n",
    "\n",
    "num_topics = 10\n",
    "\n",
    "clf = decomposition.NMF(n_components = num_topics)\n",
    "doc_top_matrix = clf.fit_transform(doc_term_matrix)\n",
    "top_term_matrix = clf.components_\n",
    "\n",
    "topic_words = []\n",
    "num_top_words = 10 \n",
    "\n",
    "for topic in clf.components_:\n",
    "    word_idx = np.argsort(topic)[-num_top_words:]\n",
    "    temp_lst = []\n",
    "    for idx in word_idx[::-1]: \n",
    "        temp_lst.append(unique_words[idx])\n",
    "    topic_words.append(temp_lst) \n",
    "    \n",
    "pprint(topic_words)"
   ]
  },
  {
   "cell_type": "code",
   "execution_count": null,
   "metadata": {},
   "outputs": [],
   "source": []
  }
 ],
 "metadata": {
  "anaconda-cloud": {},
  "kernelspec": {
   "display_name": "Python 3",
   "language": "python",
   "name": "python3"
  },
  "language_info": {
   "codemirror_mode": {
    "name": "ipython",
    "version": 3
   },
   "file_extension": ".py",
   "mimetype": "text/x-python",
   "name": "python",
   "nbconvert_exporter": "python",
   "pygments_lexer": "ipython3",
   "version": "3.8.8"
  }
 },
 "nbformat": 4,
 "nbformat_minor": 4
}
