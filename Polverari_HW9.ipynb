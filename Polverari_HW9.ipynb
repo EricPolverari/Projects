{
 "cells": [
  {
   "cell_type": "markdown",
   "metadata": {},
   "source": [
    "# Pandas DataFrame"
   ]
  },
  {
   "cell_type": "code",
   "execution_count": null,
   "metadata": {},
   "outputs": [],
   "source": [
    "'''\n",
    "Q1. (1) Please read employee.csv in your working directory into Pandas DataFrame (i.e., employee_db).\n",
    "        - When you read employee.csv, you need to use UNIQUE_ID Column \n",
    "          as the row labels (i.e., index) of the DataFrame. \n",
    "    (2) Please print a concise summary of employee_db.\n",
    "    (3) Please print the first five rows of the DataFrame.\n",
    "\n",
    "'''\n",
    "\n",
    "# hint: you can use index_col when you read a csv file.\n",
    "# hint: you can use info()\n",
    "# hint: you can use head()"
   ]
  },
  {
   "cell_type": "code",
   "execution_count": null,
   "metadata": {},
   "outputs": [],
   "source": [
    "import pandas as pd\n",
    "import numpy as np\n",
    "from IPython.display import display"
   ]
  },
  {
   "cell_type": "code",
   "execution_count": null,
   "metadata": {},
   "outputs": [],
   "source": [
    "# (1) read in employee.csv\n",
    "\n",
    "employee_db = pd.read_csv('employee.csv', index_col='UNIQUE_ID')\n",
    "employee_db"
   ]
  },
  {
   "cell_type": "code",
   "execution_count": null,
   "metadata": {},
   "outputs": [],
   "source": [
    "type(employee_db)"
   ]
  },
  {
   "cell_type": "code",
   "execution_count": null,
   "metadata": {},
   "outputs": [],
   "source": [
    "employee_db.shape"
   ]
  },
  {
   "cell_type": "code",
   "execution_count": null,
   "metadata": {},
   "outputs": [],
   "source": [
    "# (2) Concise summary\n",
    "\n",
    "employee_db.info"
   ]
  },
  {
   "cell_type": "code",
   "execution_count": null,
   "metadata": {},
   "outputs": [],
   "source": [
    "employee_db.tail() "
   ]
  },
  {
   "cell_type": "code",
   "execution_count": null,
   "metadata": {},
   "outputs": [],
   "source": [
    "# (3) print first 5 rows\n",
    "\n",
    "employee_db.head() "
   ]
  },
  {
   "cell_type": "code",
   "execution_count": null,
   "metadata": {},
   "outputs": [],
   "source": []
  },
  {
   "cell_type": "code",
   "execution_count": null,
   "metadata": {},
   "outputs": [],
   "source": [
    "'''\n",
    "Q2. (1) Please change the data type of BASE_SALARY into float32. \n",
    "        - Please make sure not to just create a copy of the column. You should change the DataFrame.\n",
    "    (2) Please print the data type of BASE_SALARY column.\n",
    "'''\n",
    "\n",
    "# hint: you can use astype()\n",
    "# hint: you can use dtypes"
   ]
  },
  {
   "cell_type": "code",
   "execution_count": null,
   "metadata": {},
   "outputs": [],
   "source": [
    "# (1) Change data type of BASE_SALARY into float\n",
    "\n",
    "employee_db['BASE_SALARY'].astype(float)"
   ]
  },
  {
   "cell_type": "code",
   "execution_count": null,
   "metadata": {},
   "outputs": [],
   "source": [
    "# (2) Print data type of BASE_SALARY column\n",
    "\n",
    "employee_db['BASE_SALARY'].dtypes"
   ]
  },
  {
   "cell_type": "code",
   "execution_count": null,
   "metadata": {},
   "outputs": [],
   "source": [
    "'''\n",
    "Q3. (1) Please add new columns 'DSA_PROGRAM', 'DSA8640' into the DataFrame.\n",
    "        - When you add columns, default values are 'True'\n",
    "    (2) Please rename column 'DSA8640' to 'DSA_8640'\n",
    "    (3) Please print column names of the DataFrame.\n",
    "\n",
    "'''\n"
   ]
  },
  {
   "cell_type": "code",
   "execution_count": null,
   "metadata": {},
   "outputs": [],
   "source": [
    "# (1) Add new columns into Dataframe\n",
    "\n",
    "employee_db['DSA_PROGRAM'] = 0"
   ]
  },
  {
   "cell_type": "code",
   "execution_count": null,
   "metadata": {},
   "outputs": [],
   "source": [
    "employee_db['DSA8640'] = 0"
   ]
  },
  {
   "cell_type": "code",
   "execution_count": null,
   "metadata": {},
   "outputs": [],
   "source": [
    "employee_db"
   ]
  },
  {
   "cell_type": "code",
   "execution_count": null,
   "metadata": {},
   "outputs": [],
   "source": [
    "columns_renamed = {'DSA8640':'DSA_8640'} "
   ]
  },
  {
   "cell_type": "code",
   "execution_count": null,
   "metadata": {},
   "outputs": [],
   "source": [
    "# (2) rename column\n",
    "employee_db.rename(columns = columns_renamed)"
   ]
  },
  {
   "cell_type": "code",
   "execution_count": null,
   "metadata": {},
   "outputs": [],
   "source": [
    "employee_db = employee_db.rename(columns = columns_renamed)"
   ]
  },
  {
   "cell_type": "code",
   "execution_count": null,
   "metadata": {},
   "outputs": [],
   "source": [
    "# (3) print column names\n",
    "\n",
    "employee_db.columns"
   ]
  },
  {
   "cell_type": "code",
   "execution_count": null,
   "metadata": {},
   "outputs": [],
   "source": []
  },
  {
   "cell_type": "code",
   "execution_count": null,
   "metadata": {},
   "outputs": [],
   "source": [
    "'''\n",
    "Q4. (1) Please add a new row to the DataFrame by following information.\n",
    "\n",
    "        POSITION_TITLE: ASSISTANT PROFESSOR\n",
    "        DEPARTMENT: MANAGEMENT\n",
    "        BASE_SALARY: 100000\n",
    "        RACE: ASIAN\n",
    "        EMPLOYMENT_TYPE: Full Time\n",
    "        GENDER: Male\n",
    "        EMPLOYMENT_STATUS: Active\n",
    "        HIRE_DATE: 2006-06-12\n",
    "        JOB_DATE: 2016-06-12\n",
    "        DSA_PROGRAM: True\n",
    "        DSA_8640: True\n",
    "        \n",
    "    (2) Please change GENDER of the last row to 'Female'.\n",
    "    (3) Plesae print the last five rows of the DataFrame.\n",
    "\n",
    "'''"
   ]
  },
  {
   "cell_type": "code",
   "execution_count": null,
   "metadata": {},
   "outputs": [],
   "source": [
    "# (1) new row to DataFrame\n",
    "\n",
    "employee_db = employee_db.append({'POSITION_TITLE':'ASSISTANT PROFESSOR', 'DEPARTMENT':'MANAGEMENT', 'BASE_SALARY':'100000', 'RACE':'ASIAN', \n",
    "                'EMPLOYMENT_TYPE':'Full Time', 'GENDER':'Male', 'EMPLOYMENT_STATUS':'Active', 'HIRE_DATE':'2006-06-12', \n",
    "                'JOB_DATE': '2016-06-12', 'DSA_PROGRAM':'True', 'DSA_8640':'True'}, ignore_index = True)"
   ]
  },
  {
   "cell_type": "code",
   "execution_count": null,
   "metadata": {},
   "outputs": [],
   "source": [
    "employee_db.tail()"
   ]
  },
  {
   "cell_type": "code",
   "execution_count": null,
   "metadata": {},
   "outputs": [],
   "source": [
    "# (2) change GENDER\n",
    "\n",
    "employee_db['GENDER'][2000] = 'Female'"
   ]
  },
  {
   "cell_type": "code",
   "execution_count": null,
   "metadata": {},
   "outputs": [],
   "source": [
    "# (3) print last five rows \n",
    "\n",
    "employee_db.tail()"
   ]
  },
  {
   "cell_type": "code",
   "execution_count": null,
   "metadata": {},
   "outputs": [],
   "source": []
  },
  {
   "cell_type": "code",
   "execution_count": null,
   "metadata": {},
   "outputs": [],
   "source": [
    "'''\n",
    "Q5. (1) Please drop the column DSA_8640.\n",
    "    (2) Please drop the first row of the DataFrame, employee_db.\n",
    "    (3) Please reset the index of the DataFrame, employee_db.\n",
    "        - Please make sure not to insert index into dataframe columns\n",
    "    (4) Please print the first five rows of the DataFrame, employee_db.\n",
    "    (5) Please create a new DataFrame, 'employee_date', \n",
    "        which contains columns having 'DATE' keyword from employee_db DataFrame.\n",
    "    (6) Please print the last five rows of the DataFrame, employee_date.\n",
    "\n",
    "'''\n",
    "\n",
    "# hint: you can use drop parameter\n",
    "# hint: Please use filter()"
   ]
  },
  {
   "cell_type": "code",
   "execution_count": null,
   "metadata": {},
   "outputs": [],
   "source": [
    "employee_db.columns"
   ]
  },
  {
   "cell_type": "code",
   "execution_count": null,
   "metadata": {},
   "outputs": [],
   "source": [
    "# (1) drop the column DSA_8640\n",
    "\n",
    "employee_db = employee_db.drop('DSA_8640', axis = 'columns')"
   ]
  },
  {
   "cell_type": "code",
   "execution_count": null,
   "metadata": {},
   "outputs": [],
   "source": [
    "employee_db.columns"
   ]
  },
  {
   "cell_type": "code",
   "execution_count": null,
   "metadata": {},
   "outputs": [],
   "source": [
    "employee_db.head()"
   ]
  },
  {
   "cell_type": "code",
   "execution_count": null,
   "metadata": {},
   "outputs": [],
   "source": [
    "# drop the first row\n",
    "\n",
    "employee_db = employee_db.drop(0)"
   ]
  },
  {
   "cell_type": "code",
   "execution_count": null,
   "metadata": {},
   "outputs": [],
   "source": [
    "employee_db"
   ]
  },
  {
   "cell_type": "code",
   "execution_count": null,
   "metadata": {},
   "outputs": [],
   "source": [
    "# (3) reset index\n",
    "employee_db = employee_db.reset_index()"
   ]
  },
  {
   "cell_type": "code",
   "execution_count": null,
   "metadata": {},
   "outputs": [],
   "source": [
    "# (4) print first 5 rows\n",
    "\n",
    "employee_db.head()"
   ]
  },
  {
   "cell_type": "code",
   "execution_count": null,
   "metadata": {},
   "outputs": [],
   "source": [
    "# (5) new dataframe\n",
    "\n",
    "employee_date = employee_db.filter(like='DATE')\n",
    "employee_date"
   ]
  },
  {
   "cell_type": "code",
   "execution_count": null,
   "metadata": {},
   "outputs": [],
   "source": [
    "# (6) print last 5 rows of employee_date DataFrame\n",
    "\n",
    "employee_date.tail()"
   ]
  },
  {
   "cell_type": "code",
   "execution_count": null,
   "metadata": {},
   "outputs": [],
   "source": []
  },
  {
   "cell_type": "code",
   "execution_count": null,
   "metadata": {},
   "outputs": [],
   "source": []
  },
  {
   "cell_type": "code",
   "execution_count": null,
   "metadata": {},
   "outputs": [],
   "source": [
    "'''\n",
    "Q6. Please create two DataFrames with following information in the Figure below:\n",
    "\n",
    "'''"
   ]
  },
  {
   "cell_type": "markdown",
   "metadata": {},
   "source": [
    "<img align = 'left' src=\"pic/dataframe.png\" alt=\"insert\" width=\"700\"/>"
   ]
  },
  {
   "cell_type": "code",
   "execution_count": null,
   "metadata": {},
   "outputs": [],
   "source": [
    "'''\n",
    "(1) Plesae create a DataFrame, Fruit_1, by using dictionary as an input of the DataFrame function.\n",
    "(2) Please create a DataFrame, Fruit_2, by using numpy array as an input of the DataFrame function.\n",
    "    - Please make sure to import numpy.\n",
    "(3) Please print DataFrames (i.e., Fruit_1 and Fruit_2).\n",
    "    - You don't need to use print function. Please just call the DataFrames.\n",
    "'''"
   ]
  },
  {
   "cell_type": "code",
   "execution_count": null,
   "metadata": {},
   "outputs": [],
   "source": [
    "import numpy as np"
   ]
  },
  {
   "cell_type": "code",
   "execution_count": null,
   "metadata": {},
   "outputs": [],
   "source": [
    "dic = {'apples':[3,2,0,1],'oranges':[0,3,7,2]}\n",
    "dic"
   ]
  },
  {
   "cell_type": "code",
   "execution_count": null,
   "metadata": {},
   "outputs": [],
   "source": []
  },
  {
   "cell_type": "code",
   "execution_count": null,
   "metadata": {},
   "outputs": [],
   "source": [
    "array = np.array([[3,0],[2,3],[0,7],[1,2]])\n",
    "array"
   ]
  },
  {
   "cell_type": "code",
   "execution_count": null,
   "metadata": {},
   "outputs": [],
   "source": [
    "# (1) create DataFrame, Fruit_1, using dictionary\n",
    "\n",
    "Fruit_1 = pd.DataFrame(dic)\n",
    "\n",
    "# (3) print DataFrame\n",
    "\n",
    "Fruit_1"
   ]
  },
  {
   "cell_type": "code",
   "execution_count": null,
   "metadata": {},
   "outputs": [],
   "source": [
    "# (2) create DataFrame, Fruit_2, using array\n",
    "\n",
    "Fruit_2 = pd.DataFrame(array, columns = ['apples', 'oranges'])\n",
    "\n",
    "# (3) print DataFrame\n",
    "\n",
    "Fruit_2"
   ]
  },
  {
   "cell_type": "code",
   "execution_count": null,
   "metadata": {},
   "outputs": [],
   "source": [
    "'''\n",
    "Q7. (1) Please read diamonds.csv in your working directory into Pandas DataFrame (i.e., diamonds_db).\n",
    "    (2) Please create another DataFrame, new_diamonds_db, \n",
    "        which includes carat, cut, color columns of the first one thousand rows in the diamonds_db.\n",
    "    (3) Please sort column names in alphabeticl order.\n",
    "    (4) Please print column names of the DataFrame\n",
    "    (5) Please print a concise summary of new_diamonds_db.\n",
    "\n",
    "'''"
   ]
  },
  {
   "cell_type": "code",
   "execution_count": null,
   "metadata": {},
   "outputs": [],
   "source": [
    "# (1) read in diamonds.csv\n",
    "\n",
    "diamonds_db = pd.read_csv('diamonds.csv')\n",
    "diamonds_db"
   ]
  },
  {
   "cell_type": "code",
   "execution_count": null,
   "metadata": {},
   "outputs": [],
   "source": [
    "# (2) create another DataFrame\n",
    "\n",
    "new_diamonds_db = diamonds_db.loc[:999, ['carat', 'cut', 'color']]\n",
    "new_diamonds_db"
   ]
  },
  {
   "cell_type": "code",
   "execution_count": null,
   "metadata": {},
   "outputs": [],
   "source": [
    "# (3) sort column name in alphabetical order\n",
    "diamonds_db = diamonds_db.sort_index(axis = 'columns')\n"
   ]
  },
  {
   "cell_type": "code",
   "execution_count": null,
   "metadata": {},
   "outputs": [],
   "source": [
    "diamonds_db"
   ]
  },
  {
   "cell_type": "code",
   "execution_count": null,
   "metadata": {},
   "outputs": [],
   "source": [
    "# (4) print columns name of the DataFrame\n",
    "\n",
    "diamonds.columns"
   ]
  },
  {
   "cell_type": "code",
   "execution_count": null,
   "metadata": {},
   "outputs": [],
   "source": [
    "new_diamonds_db.info()"
   ]
  },
  {
   "cell_type": "code",
   "execution_count": null,
   "metadata": {},
   "outputs": [],
   "source": []
  }
 ],
 "metadata": {
  "anaconda-cloud": {},
  "kernelspec": {
   "display_name": "Python 3",
   "language": "python",
   "name": "python3"
  },
  "language_info": {
   "codemirror_mode": {
    "name": "ipython",
    "version": 3
   },
   "file_extension": ".py",
   "mimetype": "text/x-python",
   "name": "python",
   "nbconvert_exporter": "python",
   "pygments_lexer": "ipython3",
   "version": "3.8.8"
  }
 },
 "nbformat": 4,
 "nbformat_minor": 4
}
